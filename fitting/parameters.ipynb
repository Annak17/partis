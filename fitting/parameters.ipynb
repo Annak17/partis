{
 "metadata": {
  "name": ""
 },
 "nbformat": 3,
 "nbformat_minor": 0,
 "worksheets": [
  {
   "cells": [
    {
     "cell_type": "code",
     "collapsed": false,
     "input": [
      "%matplotlib inline\n",
      "import collections\n",
      "import ggplot as gg\n",
      "import glob\n",
      "import os\n",
      "import pandas as pd\n",
      "import sys\n",
      "import re\n",
      "\n",
      "sys.path.insert(1, '../python')\n",
      "import utils\n",
      "\n",
      "def digest_csv(fname):\n",
      "    df = pd.read_csv(fname)\n",
      "    gene_cols = filter(lambda s: 'gene' in s.split('_'), df.keys())\n",
      "    if gene_cols == []:\n",
      "        return df\n",
      "    else:\n",
      "        gene_col = gene_cols[-1]\n",
      "        specs = map(utils.gene_spec_of_name, df[gene_col])\n",
      "        df['region'] = map(lambda spec: spec.region, specs)\n",
      "        df['primary'] = map(lambda spec: spec.primary, specs)\n",
      "        df['allele'] = map(lambda spec: spec.allele, specs)\n",
      "        return df\n",
      "\n",
      "def gene_number_of_str(name):\n",
      "    return int(re.sub(r'IGH[VDJ]([0-9]*)[^0-9].*', r'\\1', name))\n",
      "\n",
      "    \n",
      "import math\n",
      "import operator\n",
      "\n",
      "def dirichlet_pdf(x, alpha):\n",
      "  return (math.gamma(sum(alpha)) / \n",
      "          reduce(operator.mul, [math.gamma(a) for a in alpha]) *\n",
      "          reduce(operator.mul, [x[i]**(alpha[i]-1.0) for i in range(len(alpha))]))"
     ],
     "language": "python",
     "metadata": {},
     "outputs": []
    },
    {
     "cell_type": "code",
     "collapsed": false,
     "input": [
      "dfs = {}\n",
      "for csv in glob.glob('../test/data/regression/parameters/data/hmm_parameters/*-probs.csv'):\n",
      "    name = os.path.splitext(os.path.basename(csv))[0]\n",
      "    dfs[name] = digest_csv(csv)\n",
      "\n",
      "dfa = dfs['all-probs']\n",
      "dfa['v_gene_num'] = map(gene_number_of_str, dfa['v_gene'])\n",
      "dfa['d_gene_num'] = map(gene_number_of_str, dfa['d_gene'])\n",
      "dfa['j_gene_num'] = map(gene_number_of_str, dfa['j_gene'])\n",
      "\n",
      "def param_plot(*cols):\n",
      "    if len(cols) == 1:\n",
      "        [col] = cols\n",
      "        p = gg.ggplot(gg.aes(x=col, y='count'), \n",
      "                     data=pd.DataFrame([(k, sum(v['count'])) \n",
      "                                        for k, v in dfa.groupby(by=col)],\n",
      "                                       columns=[col, 'count']))\n",
      "        if type(dfa[col][0]) == str:\n",
      "            return p+gg.geom_bar(stat = 'identity')\n",
      "        else:\n",
      "            return p+gg.geom_line()\n",
      "    elif len(cols) == 2:\n",
      "        return gg.ggplot(gg.aes(x=cols[0], y='count', color=cols[1]), \n",
      "                     data=pd.DataFrame([(k[0], k[1], sum(v['count'])) \n",
      "                                        for k, v in dfa.groupby(by=cols)],\n",
      "                                       columns=list(cols)+['count']))+gg.geom_line()\n",
      "    else:\n",
      "        return \"I don't know what to do with {} columns.\".format(len(cols))"
     ],
     "language": "python",
     "metadata": {},
     "outputs": []
    },
    {
     "cell_type": "code",
     "collapsed": false,
     "input": [
      "print param_plot('v_5p_del')\n",
      "print param_plot('v_5p_del', 'v_gene')"
     ],
     "language": "python",
     "metadata": {},
     "outputs": []
    },
    {
     "cell_type": "code",
     "collapsed": false,
     "input": [
      "param_plot('v_gene')"
     ],
     "language": "python",
     "metadata": {},
     "outputs": []
    },
    {
     "cell_type": "code",
     "collapsed": false,
     "input": [
      "print param_plot('v_3p_del')+gg.scale_y_log()\n",
      "print param_plot('v_3p_del','v_gene')+gg.scale_y_log()"
     ],
     "language": "python",
     "metadata": {},
     "outputs": []
    },
    {
     "cell_type": "code",
     "collapsed": false,
     "input": [
      "print param_plot('vd_insertion','d_gene')"
     ],
     "language": "python",
     "metadata": {},
     "outputs": []
    },
    {
     "cell_type": "code",
     "collapsed": false,
     "input": [
      "print param_plot('d_5p_del','d_3p_del')+gg.scale_y_log()\n",
      "print param_plot('d_5p_del','d_gene')"
     ],
     "language": "python",
     "metadata": {},
     "outputs": []
    },
    {
     "cell_type": "code",
     "collapsed": false,
     "input": [
      "param_plot('d_gene')"
     ],
     "language": "python",
     "metadata": {},
     "outputs": []
    },
    {
     "cell_type": "markdown",
     "metadata": {},
     "source": [
      "## D 3' deletion\n",
      "\n",
      "Clearly depends on the gene number, but perhaps a little on the DJ insertion not on the 5' deletion. "
     ]
    },
    {
     "cell_type": "code",
     "collapsed": false,
     "input": [
      "print param_plot('d_3p_del','d_gene_num')\n",
      "print param_plot('d_3p_del','dj_insertion')\n",
      "print param_plot('d_3p_del','d_5p_del')"
     ],
     "language": "python",
     "metadata": {},
     "outputs": []
    },
    {
     "cell_type": "markdown",
     "metadata": {},
     "source": [
      "## DJ insertion\n",
      "\n",
      "Looks like it doesn't depend a whole lot on D or J, so perhaps best to just take a single zero-inflated exponential."
     ]
    },
    {
     "cell_type": "code",
     "collapsed": false,
     "input": [
      "print param_plot('dj_insertion')\n",
      "print param_plot('dj_insertion','d_gene_num')+gg.scale_y_log()\n",
      "print param_plot('dj_insertion','j_gene_num')+gg.scale_y_log()\n",
      "print param_plot('dj_insertion','j_gene')+gg.scale_y_log()"
     ],
     "language": "python",
     "metadata": {},
     "outputs": []
    },
    {
     "cell_type": "markdown",
     "metadata": {},
     "source": [
      "## J 5' deletion\n",
      "This appears to depend just on the J gene number."
     ]
    },
    {
     "cell_type": "code",
     "collapsed": false,
     "input": [
      "print param_plot('j_5p_del', 'j_gene_num')\n",
      "print param_plot('j_5p_del', 'j_gene')\n",
      "print param_plot('j_5p_del', 'v_3p_del')"
     ],
     "language": "python",
     "metadata": {},
     "outputs": []
    },
    {
     "cell_type": "code",
     "collapsed": false,
     "input": [
      "param_plot('j_gene')"
     ],
     "language": "python",
     "metadata": {},
     "outputs": []
    },
    {
     "cell_type": "markdown",
     "metadata": {},
     "source": [
      "## J 3' deletion\n"
     ]
    },
    {
     "cell_type": "code",
     "collapsed": false,
     "input": [
      "print param_plot('j_3p_del','j_gene_num')+gg.scale_y_log()"
     ],
     "language": "python",
     "metadata": {},
     "outputs": []
    }
   ],
   "metadata": {}
  }
 ]
}