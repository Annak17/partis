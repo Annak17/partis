{
 "metadata": {
  "name": ""
 },
 "nbformat": 3,
 "nbformat_minor": 0,
 "worksheets": [
  {
   "cells": [
    {
     "cell_type": "code",
     "collapsed": false,
     "input": [
      "import glob\n",
      "import os\n",
      "import pandas as pd\n",
      "import sys\n",
      "sys.path.insert(1, '../python')\n",
      "\n",
      "import utils\n",
      "\n",
      "def digest_csv(fname):\n",
      "    df = pd.read_csv(fname)\n",
      "    gene_col = filter(lambda s: 'gene' in s.split('_'), df.keys())[0]\n",
      "    specs = map(utils.gene_spec_of_name, df[gene_col])\n",
      "    df['region'] = map(lambda spec: spec.region, specs)\n",
      "    df['primary'] = map(lambda spec: spec.primary, specs)\n",
      "    df['allele'] = map(lambda spec: spec.allele, specs)\n",
      "    return df"
     ],
     "language": "python",
     "metadata": {},
     "outputs": [],
     "prompt_number": 1
    },
    {
     "cell_type": "code",
     "collapsed": false,
     "input": [
      "dfs = {}\n",
      "for csv in glob.glob('../test/data/regression/parameters/data/hmm_parameters/*gene*.csv'):\n",
      "    name = os.path.splitext(os.path.basename(csv))[0]\n",
      "    dfs[name] = digest_csv(csv)"
     ],
     "language": "python",
     "metadata": {},
     "outputs": [],
     "prompt_number": 2
    },
    {
     "cell_type": "code",
     "collapsed": false,
     "input": [
      "dfs.keys()"
     ],
     "language": "python",
     "metadata": {},
     "outputs": [
      {
       "metadata": {},
       "output_type": "pyout",
       "prompt_number": 3,
       "text": [
        "['j_gene-dj_insertion-probs',\n",
        " 'j_gene-j_3p_del-probs',\n",
        " 'd_gene-d_5p_del-d_3p_del-probs',\n",
        " 'd_gene-probs',\n",
        " 'j_gene-probs',\n",
        " 'v_gene-v_5p_del-probs',\n",
        " 'v_gene-probs',\n",
        " 'd_gene-d_3p_del-d_5p_del-probs',\n",
        " 'v_gene-v_3p_del-probs']"
       ]
      }
     ],
     "prompt_number": 3
    },
    {
     "cell_type": "code",
     "collapsed": false,
     "input": [],
     "language": "python",
     "metadata": {},
     "outputs": []
    }
   ],
   "metadata": {}
  }
 ]
}