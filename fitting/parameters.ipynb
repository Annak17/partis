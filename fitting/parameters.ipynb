{
 "metadata": {
  "name": ""
 },
 "nbformat": 3,
 "nbformat_minor": 0,
 "worksheets": [
  {
   "cells": [
    {
     "cell_type": "code",
     "collapsed": false,
     "input": [
      "%matplotlib inline\n",
      "import collections\n",
      "import ggplot as gg\n",
      "import glob\n",
      "import os\n",
      "import pandas as pd\n",
      "import sys\n",
      "sys.path.insert(1, '../python')\n",
      "\n",
      "import utils\n",
      "\n",
      "def simple_bar(df, x_col, y_col):\n",
      "    \"\"\"\n",
      "    Make a bar chart with categories `x_col` and heights `y_col`.\n",
      "    \"\"\"\n",
      "    dfc = df.copy()\n",
      "    dfc['row'] = range(len(dfc[x_col]))\n",
      "    return gg.ggplot(gg.aes(x='row',y=y_col), data=dfc) + \\\n",
      "        gg.geom_bar(stat='bar') + gg.scale_x_continuous(name=x_col, labels=dfc[x_col])\n",
      "\n",
      "def digest_csv(fname):\n",
      "    df = pd.read_csv(fname)\n",
      "    gene_cols = filter(lambda s: 'gene' in s.split('_'), df.keys())\n",
      "    if gene_cols == []:\n",
      "        return df\n",
      "    else:\n",
      "        gene_col = gene_cols[-1]\n",
      "        specs = map(utils.gene_spec_of_name, df[gene_col])\n",
      "        df['region'] = map(lambda spec: spec.region, specs)\n",
      "        df['primary'] = map(lambda spec: spec.primary, specs)\n",
      "        df['allele'] = map(lambda spec: spec.allele, specs)\n",
      "        return df\n",
      "\n",
      "def aggregate_counts(df):\n",
      "    \"\"\"\n",
      "    Sum up the counts for the various objects in the zeroth column.\n",
      "    \"\"\"\n",
      "    cnt = collections.Counter()\n",
      "    for row in df.iterrows():\n",
      "        cnt[row[1][0]] += row[1]['count']\n",
      "    return cnt\n",
      "\n",
      "def plot_counts(df, title=''):\n",
      "    counts_df = pd.DataFrame(aggregate_counts(df).items(), columns=['value', 'count'])\n",
      "    if type(counts_df['value'][0]) == str:\n",
      "        p = simple_bar(counts_df,'value','count')\n",
      "    else:\n",
      "        p = gg.ggplot(gg.aes(x='value', ymin=0, ymax='count'), data=counts_df) + \\\n",
      "            gg.geom_area()\n",
      "    if title == '':\n",
      "        return p\n",
      "    else:\n",
      "        return p + gg.labs(title=title)"
     ],
     "language": "python",
     "metadata": {},
     "outputs": []
    },
    {
     "cell_type": "code",
     "collapsed": false,
     "input": [
      "dfs = {}\n",
      "for csv in glob.glob('../test/data/regression/parameters/data/hmm_parameters/*-probs.csv'):\n",
      "    name = os.path.splitext(os.path.basename(csv))[0]\n",
      "    dfs[name] = digest_csv(csv)\n"
     ],
     "language": "python",
     "metadata": {},
     "outputs": []
    },
    {
     "cell_type": "code",
     "collapsed": false,
     "input": [
      "for (name, df) in dfs.items():\n",
      "    if len(df) > 1:\n",
      "        print plot_counts(df, title=name)\n",
      "    else:\n",
      "        print \"\\n\" + name + \" only has one row\\n\""
     ],
     "language": "python",
     "metadata": {},
     "outputs": []
    },
    {
     "cell_type": "code",
     "collapsed": false,
     "input": [],
     "language": "python",
     "metadata": {},
     "outputs": []
    }
   ],
   "metadata": {}
  }
 ]
}